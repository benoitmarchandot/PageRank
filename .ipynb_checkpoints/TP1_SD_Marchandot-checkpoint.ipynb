{
 "cells": [
  {
   "cell_type": "markdown",
   "metadata": {},
   "source": [
    "# Lab on PageRank"
   ]
  },
  {
   "cell_type": "markdown",
   "metadata": {},
   "source": [
    "Question 1"
   ]
  },
  {
   "cell_type": "code",
   "execution_count": 3,
   "metadata": {},
   "outputs": [],
   "source": [
    "import numpy as np\n",
    "import re"
   ]
  },
  {
   "cell_type": "code",
   "execution_count": 4,
   "metadata": {},
   "outputs": [],
   "source": [
    "def fpair(L): #this function retrieves the first column, i.e. the nodes i\n",
    "    l=len(L)\n",
    "    R=[]\n",
    "    for i in range(l):\n",
    "        if i%2==0 :\n",
    "            R.append(L[i])\n",
    "    return(R)\n"
   ]
  },
  {
   "cell_type": "code",
   "execution_count": 5,
   "metadata": {},
   "outputs": [],
   "source": [
    "def fimpair(L): #this function retrieves the first column, i.e. the nodes j\n",
    "    l=len(L)\n",
    "    R=[]\n",
    "    for i in range(l):\n",
    "        if i%2!=0 :\n",
    "            R.append(L[i])\n",
    "    return(R)"
   ]
  },
  {
   "cell_type": "code",
   "execution_count": 6,
   "metadata": {},
   "outputs": [],
   "source": [
    "def norme1(a,b):\n",
    "    s=0\n",
    "    n=len(a)\n",
    "    for i in range(n):\n",
    "        s+=abs(a[i]-b[i])\n",
    "    return s"
   ]
  },
  {
   "cell_type": "code",
   "execution_count": 7,
   "metadata": {},
   "outputs": [],
   "source": [
    "def produit_algo(M,Pi,B) : #the product is done with the matrix M constructed such that the first column corresponds to the nodes i, the second to the nodes j, and the third to the probabilities.\n",
    "    n=len(M[0])\n",
    "    nombre_de_noeud = len(Pi)\n",
    "    Pi_tplusun=nombre_de_noeud*[0]\n",
    "    for i in range (n):\n",
    "        Pi_tplusun[M[1][i]-1]=float(Pi_tplusun[M[1][i]-1] + Pi[M[0][i]-1]*M[2][i]*B)\n",
    "    return(Pi_tplusun)\n"
   ]
  },
  {
   "cell_type": "code",
   "execution_count": 8,
   "metadata": {},
   "outputs": [],
   "source": [
    "def PageRank(G):\n",
    "    f=open('%s'%(G),\"r\") \n",
    "    list=[]\n",
    "    for line in f:\n",
    "        u,v= [ int(x) for x in line.split() ]\n",
    "        list.append(u)\n",
    "        list.append(v)\n",
    "        \n",
    "    Colonne1=fpair(list)     #the first column counts all nodes i\n",
    "    Colonne2=fimpair(list)\n",
    "    G=[Colonne1,Colonne2]    #the second counts all nodes j\n",
    "    nombre_de_noeud = max(list)\n",
    "    l=len(G[0])\n",
    "    Proba_sortie_noeud=[]    #this is the vector that will contain the probabilities of leaving each node, calculated according to the number of arrows starting from this node.\n",
    "    for k in range(1, nombre_de_noeud+1):\n",
    "        m=0                      #m counts the number of occurrences of each node which are at the origin of the different links.\n",
    "        for i in range(l):\n",
    "            if G[0][i]==k:\n",
    "                m+=1\n",
    "        Proba_sortie_noeud.append(1/m)\n",
    "    \n",
    "    Colonne3=[]\n",
    "    for j in range (l):\n",
    "        a=Proba_sortie_noeud[G[0][j]-1]\n",
    "        Colonne3.append(a)\n",
    "\n",
    "    G.append(Colonne3)\n",
    "    M=G                   #M is the matrix which contains 3 columns: the first is the start node, the second is the end node, and the third is the probability.\n",
    "                          #I made a mistake on the construction of M, it does not agree with the statement, and I finally did not rewrite its construction. car lorsque je m'en suis apperçu j'avais écris tout le reste de l'algorithme\n",
    "    Pi=nombre_de_noeud*[(1/nombre_de_noeud)]\n",
    "    t=0\n",
    "    B=0.8\n",
    "    e=0.1\n",
    "    d=e+1\n",
    "    while(d>e) :\n",
    "        Pi_t = produit_algo(M,Pi,B)\n",
    "        Pi_t = [val+(1-B)/nombre_de_noeud for val in Pi_t]\n",
    "        d=norme1(Pi_t, Pi)\n",
    "        Pi = Pi_t\n",
    "    print(Pi)"
   ]
  },
  {
   "cell_type": "code",
   "execution_count": 9,
   "metadata": {},
   "outputs": [
    {
     "name": "stdout",
     "output_type": "stream",
     "text": [
      "[0.2573333333333333, 0.13626666666666665, 0.15599999999999997, 0.1581333333333333, 0.13626666666666665, 0.15599999999999997]\n"
     ]
    }
   ],
   "source": [
    "G ='graphe.txt'\n",
    "PageRank(G)"
   ]
  },
  {
   "cell_type": "markdown",
   "metadata": {},
   "source": [
    "Question 2"
   ]
  },
  {
   "cell_type": "code",
   "execution_count": 19,
   "metadata": {},
   "outputs": [],
   "source": [
    "def construct_webgraph(list_web_page):\n",
    "    n=len(list_web_page)\n",
    "    links=[]\n",
    "    for i in range(n):\n",
    "        html = open('%s'%list_web_page[i],'rb').read()\n",
    "        html = html.decode('ISO-8859-1')\n",
    "        html=re.findall('<a href=\"?(.*?)\"?>',html)\n",
    "        p=len(html)\n",
    "        for k in range(p):\n",
    "            l=html[k].split('\"')\n",
    "            l=l[0]\n",
    "            a=list_web_page.index('%s'%l)\n",
    "        \n",
    "            if a!=i and ([i,a] not in links):\n",
    "                links.append([i,a])\n",
    "    \n",
    "    graphe=open(\"webgraph.txt\",\"w\")\n",
    "    a=links[0][0]\n",
    "    b=links[0][1]\n",
    "    graphe.write(\"%d %d\"%(a,b))\n",
    "    for i in range (1,len(links)):\n",
    "        a=links[i][0]\n",
    "        b=links[i][1]\n",
    "        graphe.write(\"\\n%d %d\"%(a,b))\n",
    "\n",
    "    graphe.close()\n",
    "    return(1)\n",
    "        "
   ]
  },
  {
   "cell_type": "code",
   "execution_count": 20,
   "metadata": {},
   "outputs": [
    {
     "data": {
      "text/plain": [
       "1"
      ]
     },
     "execution_count": 20,
     "metadata": {},
     "output_type": "execute_result"
    }
   ],
   "source": [
    "import os\n",
    "L=os.listdir('/Users/benoitmarchandot/Downloads/forStudents/toyset')\n",
    "construct_webgraph(L)"
   ]
  },
  {
   "cell_type": "markdown",
   "metadata": {},
   "source": [
    "So in the same directory as this notebook, we get the webgraph.txt file."
   ]
  },
  {
   "cell_type": "code",
   "execution_count": 21,
   "metadata": {},
   "outputs": [
    {
     "name": "stdout",
     "output_type": "stream",
     "text": [
      "[0.027693364748143347, 0.02223596689483801, 0.011225243496229088, 0.010047218157732577, 0.01733624609226475, 0.02687764435468661, 0.03790554247636125, 0.01386287326741243, 0.023082138238497318, 0.014952998041825042, 0.023333713511909934, 0.018757285168720373, 0.03415454546495772, 0.01072994214598644, 0.020106956609960605, 0.00509160787815987, 0.02038013230228257, 0.004905277497826351, 0.015862879422774513, 0.022315787339782154, 0.023764247076768157, 0.012474577874218455, 0.03624620195638619, 0.021699403439793985, 0.01383555056332618, 0.004472757645423179, 0.02197769614797659, 0.01526135313793786, 0.02574308820298363, 0.0116782433476788, 0.01591698106517512, 0.03098219284746154, 0.01613805873316058, 0.03229545728978858, 0.019984790782369678, 0.013501945585750377, 0.011104397802954396, 0.012914035158207108, 0.022517965264829277, 0.007732415697708224, 0.014002552171418384, 0.023215685845377244, 0.013519956176971309, 0.019130445348311854, 0.02847034717821049, 0.01969224102119701, 0.04504952710056433, 0.007176703011976784, 0.01460849095142493, 0.016689428747493427, 0.008478989967843008, 0.009732695390491226, 0.01755005961981141, 0.018069738850784677]\n"
     ]
    }
   ],
   "source": [
    "W='webgraph.txt'\n",
    "PageRank(W)"
   ]
  },
  {
   "cell_type": "markdown",
   "metadata": {},
   "source": [
    "Question 3"
   ]
  },
  {
   "cell_type": "code",
   "execution_count": 112,
   "metadata": {},
   "outputs": [],
   "source": [
    "def is_a_deadends(list,k):\n",
    "    \n",
    "    \n",
    "    i=0\n",
    "    r = True\n",
    "    p=0                        # p notes the presence of the node, if the node is no longer present, it should not declare it as a dead-ends\n",
    "    \n",
    "    while (i<len(list) and r) :\n",
    "        if list[i][0]==k :\n",
    "            p=p+1\n",
    "            if list[i][1] != k :\n",
    "                r=False\n",
    "        if list[i][1]==k:\n",
    "            p=p+1\n",
    "        i+=1\n",
    "    if p>0 :\n",
    "        return(r)\n",
    "    else :\n",
    "        return(False)\n",
    "    "
   ]
  },
  {
   "cell_type": "code",
   "execution_count": 113,
   "metadata": {},
   "outputs": [],
   "source": [
    " def delete_deadends(list) :\n",
    "        \n",
    "        a_garder=[]\n",
    "        for i in range(len(list)):\n",
    "            if is_a_deadends(list,list[i][0])==False and is_a_deadends(list,list[i][1])==False:  #we browse the list and if ever we meet one of the two nodes of the vector which is a dead-ends, we write it down so we can keep it at the end.\n",
    "                a_garder.append(i)\n",
    "        \n",
    "        newlist = [list[i] for i in a_garder]\n",
    "            \n",
    "        return(newlist)\n",
    "                \n",
    "        "
   ]
  },
  {
   "cell_type": "code",
   "execution_count": 24,
   "metadata": {},
   "outputs": [],
   "source": [
    "def has_deadends(list,M) :\n",
    "    \n",
    "    k=0\n",
    "    r=is_a_deadends(list,k)\n",
    "    \n",
    "    while(k< M and (not r)):\n",
    "        k+=1\n",
    "        r=is_a_deadends(list,k)\n",
    "            \n",
    "    return(r)            \n",
    "    "
   ]
  },
  {
   "cell_type": "code",
   "execution_count": 25,
   "metadata": {},
   "outputs": [],
   "source": [
    "def modifier_texte(G,list):\n",
    "\n",
    "    fi=open('%s'%(G),\"w\")\n",
    "    a=list[0][0]\n",
    "    b=list[0][1]\n",
    "    fi.write(\"%d %d\"%(a,b))\n",
    "\n",
    "    for i in range (1, len(list)):\n",
    "        a=list[i][0]\n",
    "        b=list[i][1]\n",
    "        fi.write(\"\\n%d %d\"%(a,b))\n",
    "\n",
    "    fi.close()\n",
    "    "
   ]
  },
  {
   "cell_type": "code",
   "execution_count": 114,
   "metadata": {},
   "outputs": [],
   "source": [
    "    def remove_deadends(G) :\n",
    "        \n",
    "            \n",
    "        f=open('%s'%(G),\"r\") \n",
    "        liste_des_noeuds=[]\n",
    "        for line in f:\n",
    "            a,b = [ int(x) for x in line.split() ]    #we are looking for the number of nodes, this is the only use of this list\n",
    "            liste_des_noeuds.append(a)\n",
    "            liste_des_noeuds.append(b)\n",
    "            M=max(liste_des_noeuds)\n",
    "        \n",
    "        f=open('%s'%(G),\"r\")\n",
    "        list=[]\n",
    "        for line in f:\n",
    "            u = [ int(x) for x in line.split() ]\n",
    "            list.append(u)\n",
    "        \n",
    "        if has_deadends(list,M) :\n",
    "            \n",
    "            list = delete_deadends(list)\n",
    "            modifier_texte(G,list)\n",
    "            remove_deadends(G)\n",
    "        \n",
    "        else :\n",
    "            return(list)\n",
    "        "
   ]
  },
  {
   "cell_type": "code",
   "execution_count": 9,
   "metadata": {},
   "outputs": [
    {
     "data": {
      "text/plain": [
       "[[1, 2], [2, 3], [3, 4], [4, 1], [6, 1], [7, 2]]"
      ]
     },
     "execution_count": 9,
     "metadata": {},
     "output_type": "execute_result"
    }
   ],
   "source": [
    "G='graphe.txt'\n",
    "remove_deadends(G)"
   ]
  }
 ],
 "metadata": {
  "kernelspec": {
   "display_name": "Python 3",
   "language": "python",
   "name": "python3"
  },
  "language_info": {
   "codemirror_mode": {
    "name": "ipython",
    "version": 3
   },
   "file_extension": ".py",
   "mimetype": "text/x-python",
   "name": "python",
   "nbconvert_exporter": "python",
   "pygments_lexer": "ipython3",
   "version": "3.8.5"
  }
 },
 "nbformat": 4,
 "nbformat_minor": 4
}
